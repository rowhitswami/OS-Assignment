{
 "cells": [
  {
   "cell_type": "code",
   "execution_count": null,
   "metadata": {},
   "outputs": [],
   "source": [
    "#!/usr/bin/env python3\n",
    "# -*- coding: utf-8 -*-\n",
    "\"\"\"\n",
    "Created on Thu Mar 29 14:25:19 2018\n",
    "\n",
    "@author: Rohit Swami\n",
    "\n",
    "Question:\n",
    "Ten students (s1,s2,s3,s4,s5,s6,s7,s8,s9,s10) are going to attend an event. \n",
    "There are lots of gift shops, they all are going to the gift shops and randomly\n",
    " picking the gifts. After picking the gifts they are randomly arriving in the\n",
    " billing counter. The accountant gives the preference to that student who has \n",
    " maximum number of gifts. Create a C program to define order of billed \n",
    " students?\n",
    "\"\"\""
   ]
  },
  {
   "cell_type": "code",
   "execution_count": 100,
   "metadata": {},
   "outputs": [
    {
     "data": {
      "text/plain": [
       "[19, 15, 14, 11, 10, 7, 5, 4, 3, 2]"
      ]
     },
     "execution_count": 100,
     "metadata": {},
     "output_type": "execute_result"
    }
   ],
   "source": [
    "import random\n",
    "from random import shuffle\n",
    "\n",
    "# Declaring a list\n",
    "gift = []\n",
    "# Populating list with random numbers (gifts)\n",
    "gift = (random.sample(range(1, 20), 10))\n",
    "gift.sort(reverse=True)\n",
    "gift"
   ]
  },
  {
   "cell_type": "code",
   "execution_count": 102,
   "metadata": {},
   "outputs": [
    {
     "data": {
      "text/plain": [
       "['s9', 's4', 's7', 's6', 's2', 's3', 's1', 's5', 's8', 's10']"
      ]
     },
     "execution_count": 102,
     "metadata": {},
     "output_type": "execute_result"
    }
   ],
   "source": [
    "# Creating students\n",
    "student = []\n",
    "s = \"s\"\n",
    "student = [s+str(i) for i in range(1, 11)]\n",
    "shuffle(student)\n",
    "student"
   ]
  },
  {
   "cell_type": "code",
   "execution_count": 105,
   "metadata": {},
   "outputs": [
    {
     "data": {
      "text/plain": [
       "[('s9', 19),\n",
       " ('s4', 15),\n",
       " ('s7', 14),\n",
       " ('s6', 11),\n",
       " ('s2', 10),\n",
       " ('s3', 7),\n",
       " ('s1', 5),\n",
       " ('s5', 4),\n",
       " ('s8', 3),\n",
       " ('s10', 2)]"
      ]
     },
     "execution_count": 105,
     "metadata": {},
     "output_type": "execute_result"
    }
   ],
   "source": [
    "d = list(zip(student, gift))\n"
   ]
  },
  {
   "cell_type": "code",
   "execution_count": null,
   "metadata": {},
   "outputs": [],
   "source": [
    "for i, j in d:\n",
    "    print()"
   ]
  }
 ],
 "metadata": {
  "kernelspec": {
   "display_name": "Python 3",
   "language": "python",
   "name": "python3"
  },
  "language_info": {
   "codemirror_mode": {
    "name": "ipython",
    "version": 3
   },
   "file_extension": ".py",
   "mimetype": "text/x-python",
   "name": "python",
   "nbconvert_exporter": "python",
   "pygments_lexer": "ipython3",
   "version": "3.6.4"
  }
 },
 "nbformat": 4,
 "nbformat_minor": 2
}
