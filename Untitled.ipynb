{
 "cells": [
  {
   "cell_type": "code",
   "execution_count": null,
   "metadata": {},
   "outputs": [],
   "source": [
    "#!/usr/bin/env python3\n",
    "# -*- coding: utf-8 -*-\n",
    "\"\"\"\n",
    "Created on Thu Mar 29 14:25:19 2018\n",
    "\n",
    "@author: Rohit Swami\n",
    "\n",
    "Question:\n",
    "Ten students (s1,s2,s3,s4,s5,s6,s7,s8,s9,s10) are going to attend an event. \n",
    "There are lots of gift shops, they all are going to the gift shops and randomly\n",
    " picking the gifts. After picking the gifts they are randomly arriving in the\n",
    " billing counter. The accountant gives the preference to that student who has \n",
    " maximum number of gifts. Create a C program to define order of billed \n",
    " students?\n",
    "\"\"\""
   ]
  },
  {
   "cell_type": "code",
   "execution_count": 16,
   "metadata": {},
   "outputs": [
    {
     "data": {
      "text/plain": [
       "[18, 17, 16, 15, 13, 10, 9, 8, 5, 4]"
      ]
     },
     "execution_count": 16,
     "metadata": {},
     "output_type": "execute_result"
    }
   ],
   "source": [
    "import random\n",
    "from random import shuffle\n",
    "\n",
    "# Declaring a list\n",
    "gift = []\n",
    "# Populating list with random numbers (gifts)\n",
    "gift = (random.sample(range(1, 20), 10))\n",
    "gift.sort(reverse=True)\n",
    "gift"
   ]
  },
  {
   "cell_type": "code",
   "execution_count": 21,
   "metadata": {},
   "outputs": [
    {
     "data": {
      "text/plain": [
       "['s10', 's8', 's9', 's2', 's3', 's4', 's1', 's5', 's7', 's6']"
      ]
     },
     "execution_count": 21,
     "metadata": {},
     "output_type": "execute_result"
    }
   ],
   "source": [
    "# Creating students\n",
    "student = []\n",
    "s = \"s\"\n",
    "student = [s+str(i) for i in range(1, 11)]\n",
    "shuffle(student)\n",
    "student"
   ]
  },
  {
   "cell_type": "code",
   "execution_count": 23,
   "metadata": {},
   "outputs": [
    {
     "data": {
      "text/plain": [
       "[('s10', 18),\n",
       " ('s8', 17),\n",
       " ('s9', 16),\n",
       " ('s2', 15),\n",
       " ('s3', 13),\n",
       " ('s4', 10),\n",
       " ('s1', 9),\n",
       " ('s5', 8),\n",
       " ('s7', 5),\n",
       " ('s6', 4)]"
      ]
     },
     "execution_count": 23,
     "metadata": {},
     "output_type": "execute_result"
    }
   ],
   "source": [
    "d = list(zip(student, gift))\n",
    "d"
   ]
  },
  {
   "cell_type": "code",
   "execution_count": 32,
   "metadata": {},
   "outputs": [
    {
     "name": "stdout",
     "output_type": "stream",
     "text": [
      "Sr. No.\tStudent\t\tNo. of Gifts\n",
      "s8 \t\t 17\n",
      "s9 \t\t 16\n",
      "s2 \t\t 15\n",
      "s3 \t\t 13\n",
      "s4 \t\t 10\n",
      "s1 \t\t 9\n",
      "s5 \t\t 8\n",
      "s7 \t\t 5\n",
      "s6 \t\t 4\n"
     ]
    }
   ],
   "source": [
    "print(\"Sr. No.\\tStudent\\t\\tNo. of Gifts\")\n",
    "for i in range(1, 10):\n",
    "    print(d[i][0],\"\\t\\t\",d[i][1])"
   ]
  },
  {
   "cell_type": "code",
   "execution_count": 1,
   "metadata": {},
   "outputs": [
    {
     "name": "stdout",
     "output_type": "stream",
     "text": [
      "hello\t...\n"
     ]
    }
   ],
   "source": [
    "print(\"hello\\t...\")"
   ]
  }
 ],
 "metadata": {
  "kernelspec": {
   "display_name": "Python 3",
   "language": "python",
   "name": "python3"
  },
  "language_info": {
   "codemirror_mode": {
    "name": "ipython",
    "version": 3
   },
   "file_extension": ".py",
   "mimetype": "text/x-python",
   "name": "python",
   "nbconvert_exporter": "python",
   "pygments_lexer": "ipython3",
   "version": "3.6.4"
  }
 },
 "nbformat": 4,
 "nbformat_minor": 2
}
