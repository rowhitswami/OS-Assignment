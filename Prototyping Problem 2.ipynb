{
 "cells": [
  {
   "cell_type": "code",
   "execution_count": null,
   "metadata": {},
   "outputs": [],
   "source": [
    "#!/usr/bin/env python3\n",
    "# -*- coding: utf-8 -*-\n",
    "\"\"\"\n",
    "Created on Thu Mar 29 14:25:19 2018\n",
    "\n",
    "@author: Rohit Swami\n",
    "\n",
    "Question:\n",
    "Ten students (s1,s2,s3,s4,s5,s6,s7,s8,s9,s10) are going to attend an event. \n",
    "There are lots of gift shops, they all are going to the gift shops and randomly\n",
    " picking the gifts. After picking the gifts they are randomly arriving in the\n",
    " billing counter. The accountant gives the preference to that student who has \n",
    " maximum number of gifts. Create a C program to define order of billed \n",
    " students?\n",
    "\"\"\""
   ]
  },
  {
   "cell_type": "code",
   "execution_count": 46,
   "metadata": {},
   "outputs": [],
   "source": [
    "import random\n",
    "from random import shuffle\n",
    "\n",
    "gift = []\n",
    "# Populating list with random numbers (gifts)\n",
    "gift = (random.sample(range(1, 20), 10))\n",
    "\n",
    "# sorting items in descending order\n",
    "gift.sort(reverse=True)"
   ]
  },
  {
   "cell_type": "code",
   "execution_count": 47,
   "metadata": {},
   "outputs": [],
   "source": [
    "# Creating students\n",
    "students = []\n",
    "s = \"s\"\n",
    "students = [s+str(i) for i in range(1, 11)]\n",
    "\n",
    "# Shuffling items in student (randomly reaching to the billing-counter)\n",
    "shuffle(students)"
   ]
  },
  {
   "cell_type": "code",
   "execution_count": 48,
   "metadata": {},
   "outputs": [],
   "source": [
    "# Zipping students with their gifts\n",
    "mapping = list(zip(students, gift))"
   ]
  },
  {
   "cell_type": "code",
   "execution_count": 51,
   "metadata": {},
   "outputs": [
    {
     "name": "stdout",
     "output_type": "stream",
     "text": [
      "Sr.\tStudents \t\tNo. of Gifts\n",
      "1 \t s3 \t\t 19\n",
      "2 \t s6 \t\t 18\n",
      "3 \t s4 \t\t 17\n",
      "4 \t s9 \t\t 14\n",
      "5 \t s8 \t\t 12\n",
      "6 \t s1 \t\t 9\n",
      "7 \t s2 \t\t 5\n",
      "8 \t s5 \t\t 4\n",
      "9 \t s7 \t\t 3\n",
      "10 \t s10 \t\t 1\n"
     ]
    }
   ],
   "source": [
    "print(\"Sr.\\tStudents \\t\\tNo. of Gifts\")\n",
    "for i in range(10):\n",
    "    print(i+1,\"\\t\",mapping[i][0],\"\\t\\t\",mapping[i][1])"
   ]
  },
  {
   "cell_type": "code",
   "execution_count": null,
   "metadata": {},
   "outputs": [],
   "source": []
  }
 ],
 "metadata": {
  "kernelspec": {
   "display_name": "Python 3",
   "language": "python",
   "name": "python3"
  },
  "language_info": {
   "codemirror_mode": {
    "name": "ipython",
    "version": 3
   },
   "file_extension": ".py",
   "mimetype": "text/x-python",
   "name": "python",
   "nbconvert_exporter": "python",
   "pygments_lexer": "ipython3",
   "version": "3.6.4"
  }
 },
 "nbformat": 4,
 "nbformat_minor": 2
}
